{
 "cells": [
  {
   "cell_type": "markdown",
   "id": "095a2562-fb28-4a4f-84eb-f0ce8108cac2",
   "metadata": {},
   "source": [
    "# Modem QAM en Python\n",
    "\n",
    "Ce projet implémente un modem numérique basé sur la modulation QAM (Quadrature Amplitude Modulation) avec les fonctionnalités suivantes :\n",
    "\n",
    "## Fonctionnalités\n",
    "- Modulation et démodulation QAM pour n’importe quelle constellation M-QAM (paramétrable)\n",
    "- Option pour l’encodage/décodage Gray\n",
    "- Génération du diagramme de constellation IQ (TX)\n",
    "- Ajout de bruit (AWGN, bruit de phase possible)\n",
    "- Démodulation des symboles bruités (RX)\n",
    "- Calcul du BER (Bit Error Rate) et visualisation en fonction du rapport Eb/N0\n",
    "- Transmission et reconstitution d'une image en utilisant le modem\n",
    "\n",
    "## Prérequis\n",
    "```bash\n",
    "pip install -r requirements.txt\n",
    "```\n",
    "\n",
    "## Utilisation\n",
    "\n",
    "### Simulation de modulation QAM avec BER :\n",
    "```bash\n",
    "python main.py\n",
    "```\n",
    "Affiche :\n",
    "- Constellation\n",
    "- Tableau de correspondance (bits, symboles, énergie, phase)\n",
    "- Courbe BER vs SNR (Eb/N0)\n",
    "\n",
    "### Transmission d’image :\n",
    "```bash\n",
    "python image_transmission.py\n",
    "```\n",
    "Requiert un fichier `lena.png` (image grayscale) dans le dossier courant.\n",
    "Génère une image reconstituée `reconstructed.png`.\n",
    "\n",
    "## Structure du projet\n",
    "```\n",
    "modem_qam_project/\n",
    "├── qam_modem.py           # Classe QAMModem\n",
    "├── gray_code.py           # Fonctions Gray\n",
    "├── utils.py               # Bruit, BER\n",
    "├── main.py                # Simulation BER vs SNR\n",
    "├── image_transmission.py # Test image\n",
    "├── requirements.txt\n",
    "├── README.md\n",
    "└── test/                  # Tests unitaires\n",
    "```\n",
    "\n",
    "## Exemple de résultat\n",
    "- BER en fonction de Eb/N0\n",
    "- Affichage constellation annotée\n",
    "- Reconstruction image fidèle (si SNR assez élevé)"
   ]
  },
  {
   "cell_type": "code",
   "execution_count": null,
   "id": "8af3c6bc-e4f7-494c-b013-3d77082ecce9",
   "metadata": {},
   "outputs": [],
   "source": [
    "# Structure du projet Modem QAM en Python\n",
    "\n",
    "modem_qam_project/\n",
    "├── qam_modem.py           # Module principal avec les classes et fonctions\n",
    "├── gray_code.py           # Fonctions pour encoder/décoder en Gray code\n",
    "├── image_transmission.py # Script pour envoyer une image avec le modem QAM\n",
    "├── main.py                # Script principal pour lancer les simulations\n",
    "├── utils.py               # Fonctions utilitaires (BER, SNR, bruit...)\n",
    "├── README.md              # Documentation du projet\n",
    "├── requirements.txt       # Dépendances Python\n",
    "└── test/\n",
    "    ├── test_qam.py        # Tests unitaires\n",
    "    └── ..."
   ]
  },
  {
   "cell_type": "code",
   "execution_count": null,
   "id": "eecd3dfa-1e8b-40b1-a7ea-b8d26105d72c",
   "metadata": {},
   "outputs": [],
   "source": [
    "# qam_modem.py\n",
    "import numpy as np\n",
    "import matplotlib.pyplot as plt\n",
    "from gray_code import binary_to_gray, gray_to_binary\n"
   ]
  },
  {
   "cell_type": "code",
   "execution_count": null,
   "id": "cab8d716-7c61-4477-bb1a-b0397fe5e2f9",
   "metadata": {},
   "outputs": [],
   "source": [
    "class QAMModem:\n",
    "    def __init__(self, M, use_gray=False):\n",
    "        self.M = M\n",
    "        self.k = int(np.log2(M))\n",
    "        self.use_gray = use_gray\n",
    "        self.constellation, self.mapping = self._generate_constellation()"
   ]
  },
  {
   "cell_type": "code",
   "execution_count": null,
   "id": "afbaed9f-94db-422e-9f5b-82f639307b12",
   "metadata": {},
   "outputs": [],
   "source": [
    "\n",
    "    def _generate_constellation(self):\n",
    "        m = int(np.sqrt(self.M))\n",
    "        I = np.repeat(np.arange(-m+1, m, 2), m)\n",
    "        Q = np.tile(np.arange(-m+1, m, 2)[::-1], m)\n",
    "        constellation = I + 1j * Q\n",
    "        constellation /= np.sqrt((np.abs(constellation)**2).mean())\n",
    "\n",
    "        mapping = {}\n",
    "        for i in range(self.M):\n",
    "            b = format(i, f'0{self.k}b')\n",
    "            if self.use_gray:\n",
    "                b = binary_to_gray(b)\n",
    "            mapping[b] = constellation[i]\n",
    "        return constellation, mapping"
   ]
  },
  {
   "cell_type": "code",
   "execution_count": null,
   "id": "92f59421-9306-4ea3-a012-4a39783129c5",
   "metadata": {},
   "outputs": [],
   "source": [
    " def modulate(self, bits):\n",
    "        symbols = []\n",
    "        for i in range(0, len(bits), self.k):\n",
    "            symbol_bits = bits[i:i+self.k]\n",
    "            b = ''.join(str(bit) for bit in symbol_bits)\n",
    "            symbol = self.mapping[b]\n",
    "            symbols.append(symbol)\n",
    "        return np.array(symbols)"
   ]
  },
  {
   "cell_type": "code",
   "execution_count": null,
   "id": "5da57203-99d3-4d65-af32-656a961ba99a",
   "metadata": {},
   "outputs": [],
   "source": [
    "def demodulate(self, symbols):\n",
    "        bits = []\n",
    "        for s in symbols:\n",
    "            dists = np.abs(s - self.constellation)\n",
    "            idx = np.argmin(dists)\n",
    "            b = format(idx, f'0{self.k}b')\n",
    "            if self.use_gray:\n",
    "                b = gray_to_binary(b)\n",
    "            bits.extend([int(bit) for bit in b])\n",
    "        return bits\n"
   ]
  },
  {
   "cell_type": "code",
   "execution_count": null,
   "id": "3f8fb01d-5917-4c99-8952-80728671699b",
   "metadata": {},
   "outputs": [],
   "source": [
    " def symbol_table(self):\n",
    "        table = []\n",
    "        for i in range(self.M):\n",
    "            b = format(i, f'0{self.k}b')\n",
    "            gray = binary_to_gray(b) if self.use_gray else b\n",
    "            sym = self.mapping[gray]\n",
    "            amp = np.abs(sym)\n",
    "            phase = np.angle(sym)\n",
    "            table.append((gray, sym.real, sym.imag, amp, phase))\n",
    "        return table"
   ]
  },
  {
   "cell_type": "code",
   "execution_count": null,
   "id": "f3415fe0-cc4b-4f70-be66-29227e0d91e9",
   "metadata": {},
   "outputs": [],
   "source": [
    "def plot_constellation(self):\n",
    "        plt.figure()\n",
    "        plt.scatter(self.constellation.real, self.constellation.imag, c='blue')\n",
    "        for i, pt in enumerate(self.constellation):\n",
    "            plt.text(pt.real, pt.imag, format(i, f'0{self.k}b'), fontsize=8)\n",
    "        plt.grid(True)\n",
    "        plt.title(\"Constellation QAM\")\n",
    "        plt.xlabel(\"In-phase\")\n",
    "        plt.ylabel(\"Quadrature\")\n",
    "        plt.axis('equal')\n",
    "        plt.show()"
   ]
  },
  {
   "cell_type": "code",
   "execution_count": null,
   "id": "50cd6ebf-a6f7-41b9-a438-e693ffd60ca5",
   "metadata": {},
   "outputs": [],
   "source": [
    "# gray_code.py\n",
    "def binary_to_gray(binary_str):\n",
    "    b = int(binary_str, 2)\n",
    "    g = b ^ (b >> 1)\n",
    "    return format(g, f'0{len(binary_str)}b')\n",
    "\n",
    "def gray_to_binary(gray_str):\n",
    "    g = int(gray_str, 2)\n",
    "    b = 0\n",
    "    while g:\n",
    "        b ^= g\n",
    "        g >>= 1\n",
    "    return format(b, f'0{len(gray_str)}b')\n"
   ]
  },
  {
   "cell_type": "code",
   "execution_count": null,
   "id": "3e4305f0-fb27-4cc9-bdfa-7c3243a41b01",
   "metadata": {},
   "outputs": [],
   "source": [
    "# utils.py\n",
    "import numpy as np\n",
    "\n",
    "def add_awgn_noise(signal, snr_db):\n",
    "    snr_linear = 10**(snr_db / 10)\n",
    "    power_signal = np.mean(np.abs(signal)**2)\n",
    "    noise_power = power_signal / snr_linear\n",
    "    noise = np.sqrt(noise_power/2) * (np.random.randn(*signal.shape) + 1j*np.random.randn(*signal.shape))\n",
    "    return signal + noise"
   ]
  },
  {
   "cell_type": "code",
   "execution_count": null,
   "id": "1ee5cab8-7526-4d42-84f0-15da7d50420d",
   "metadata": {},
   "outputs": [],
   "source": [
    "def calculate_ber(original_bits, received_bits):\n",
    "    errors = np.sum(np.array(original_bits) != np.array(received_bits))\n",
    "    return errors / len(original_bits)\n"
   ]
  },
  {
   "cell_type": "code",
   "execution_count": null,
   "id": "96711dc3-abe5-4817-9eaa-e968bef28ca0",
   "metadata": {},
   "outputs": [],
   "source": [
    "# main.py\n",
    "import numpy as np\n",
    "import matplotlib.pyplot as plt\n",
    "from qam_modem import QAMModem\n",
    "from utils import add_awgn_noise, calculate_ber\n",
    "\n",
    "M = 16\n",
    "modem = QAMModem(M, use_gray=True)\n",
    "EbN0_dBs = np.arange(0, 16, 2)\n",
    "ber_list = []\n",
    "\n",
    "bits = np.random.randint(0, 2, 10000)\n",
    "symbols = modem.modulate(bits)\n",
    "\n",
    "for ebn0 in EbN0_dBs:\n",
    "    noisy = add_awgn_noise(symbols, ebn0)\n",
    "    received_bits = modem.demodulate(noisy)\n",
    "    ber = calculate_ber(bits, received_bits)\n",
    "    ber_list.append(ber)\n",
    "\n",
    "plt.semilogy(EbN0_dBs, ber_list, marker='o')\n",
    "plt.xlabel(\"Eb/N0 [dB]\")\n",
    "plt.ylabel(\"BER\")\n",
    "plt.title(\"BER vs Eb/N0\")\n",
    "plt.grid(True, which='both')\n",
    "plt.show()\n"
   ]
  },
  {
   "cell_type": "code",
   "execution_count": null,
   "id": "4acf1d40-9987-4135-8e27-aa4b318045d5",
   "metadata": {},
   "outputs": [],
   "source": [
    "# image_transmission.py\n",
    "from PIL import Image\n",
    "import numpy as np\n",
    "from qam_modem import QAMModem\n",
    "from utils import add_awgn_noise"
   ]
  },
  {
   "cell_type": "code",
   "execution_count": null,
   "id": "37c8d919-b156-4c0b-bd91-580290a78560",
   "metadata": {},
   "outputs": [],
   "source": [
    "# Charger image\n",
    "img = Image.open(\"lena.png\").convert('L')\n",
    "img_data = np.array(img).flatten()"
   ]
  },
  {
   "cell_type": "code",
   "execution_count": null,
   "id": "ef4a0a7c-1c3a-4588-a8d3-a30650348ad1",
   "metadata": {},
   "outputs": [],
   "source": [
    "# Convertir en bits\n",
    "bits = np.unpackbits(img_data)"
   ]
  },
  {
   "cell_type": "code",
   "execution_count": null,
   "id": "8153e049-ce2f-45f9-87d0-76e08003bfe0",
   "metadata": {},
   "outputs": [],
   "source": [
    "# Modem QAM\n",
    "modem = QAMModem(16, use_gray=True)\n",
    "symbols = modem.modulate(bits)\n",
    "noisy_symbols = add_awgn_noise(symbols, snr_db=15)\n",
    "received_bits = modem.demodulate(noisy_symbols)\n"
   ]
  },
  {
   "cell_type": "code",
   "execution_count": null,
   "id": "0d528987-577d-43b8-93f7-6118bed8514e",
   "metadata": {},
   "outputs": [],
   "source": [
    "# Reconstruire l’image\n",
    "received_bytes = np.packbits(received_bits[:len(bits)])\n",
    "reconstructed = np.reshape(received_bytes, img.size)\n",
    "Image.fromarray(reconstructed).save(\"reconstructed.png\")"
   ]
  },
  {
   "cell_type": "code",
   "execution_count": null,
   "id": "cec3cc85-c928-40b1-805e-4e1b7cfc0fda",
   "metadata": {},
   "outputs": [],
   "source": [
    "# README.md"
   ]
  },
  {
   "cell_type": "code",
   "execution_count": null,
   "id": "db0d154a-4a44-4b77-b581-5585f9b5b227",
   "metadata": {},
   "outputs": [],
   "source": [
    "# requirements.txt\n",
    "numpy\n",
    "matplotlib\n",
    "Pillow\n"
   ]
  }
 ],
 "metadata": {
  "kernelspec": {
   "display_name": "Python 3 (ipykernel)",
   "language": "python",
   "name": "python3"
  },
  "language_info": {
   "codemirror_mode": {
    "name": "ipython",
    "version": 3
   },
   "file_extension": ".py",
   "mimetype": "text/x-python",
   "name": "python",
   "nbconvert_exporter": "python",
   "pygments_lexer": "ipython3",
   "version": "3.12.7"
  }
 },
 "nbformat": 4,
 "nbformat_minor": 5
}
